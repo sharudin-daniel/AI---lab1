{
  "nbformat": 4,
  "nbformat_minor": 0,
  "metadata": {
    "colab": {
      "name": "AI---lab1.ipynb",
      "provenance": []
    },
    "kernelspec": {
      "name": "python3",
      "display_name": "Python 3"
    },
    "language_info": {
      "name": "python"
    }
  },
  "cells": [
    {
      "cell_type": "code",
      "execution_count": 1,
      "metadata": {
        "id": "9s3VRJfXkFji"
      },
      "outputs": [],
      "source": [
        "import matplotlib.pyplot as plt\n",
        "import numpy as np\n",
        "import pandas as pd\n",
        "import pprint\n",
        "import math\n",
        "import copy\n",
        "import joblib\n",
        "from sklearn import naive_bayes\n",
        "from sklearn.tree import DecisionTreeClassifier\n",
        "from sklearn.neighbors import KNeighborsClassifier\n",
        "from sklearn.linear_model import LogisticRegression\n",
        "from sklearn.naive_bayes import GaussianNB\n",
        "from sklearn.svm import SVC\n",
        "from sklearn.utils import check_random_state\n",
        "from sklearn.base import BaseEstimator, ClassifierMixin\n",
        "from sklearn.preprocessing import StandardScaler\n",
        "from sklearn.pipeline import Pipeline\n",
        "from sklearn.experimental import enable_halving_search_cv \n",
        "from sklearn.model_selection import HalvingGridSearchCV, GridSearchCV, train_test_split\n",
        "from sklearn.metrics import auc, accuracy_score, confusion_matrix, recall_score, precision_score, roc_curve, classification_report, ConfusionMatrixDisplay\n",
        "  \n"
      ]
    },
    {
      "cell_type": "markdown",
      "source": [
        "Загрузим дату титаника и удалим все лишнее"
      ],
      "metadata": {
        "id": "51iDdviaktcT"
      }
    },
    {
      "cell_type": "code",
      "source": [
        "d1 = pd.read_csv('titanic_data.csv')\n",
        "d2 = pd.read_csv('titanic_surv.csv')\n",
        "data = pd.concat([d1, d2], axis=1)"
      ],
      "metadata": {
        "id": "5_m96MlzkwiP"
      },
      "execution_count": 2,
      "outputs": []
    },
    {
      "cell_type": "code",
      "source": [
        "data = data.drop(columns=['Cabin'])"
      ],
      "metadata": {
        "id": "lYBNmC_1kweq"
      },
      "execution_count": 3,
      "outputs": []
    },
    {
      "cell_type": "code",
      "source": [
        "mean = data['Age'].mean()\n",
        "std = data['Age'].std()\n",
        "number_of_nulls = data['Age'].isnull().sum()\n",
        "random_ages = np.random.randint(mean - std, mean + std, size=number_of_nulls)"
      ],
      "metadata": {
        "id": "U880UPJhkwci"
      },
      "execution_count": 4,
      "outputs": []
    },
    {
      "cell_type": "code",
      "source": [
        "new_ages = data['Age'].copy()\n",
        "new_ages[np.isnan(new_ages)] = random_ages\n",
        "data['Age'] = new_ages"
      ],
      "metadata": {
        "id": "DM_nO8sakwZq"
      },
      "execution_count": 5,
      "outputs": []
    },
    {
      "cell_type": "code",
      "source": [
        "data = data[data['Embarked'].notnull()]"
      ],
      "metadata": {
        "id": "JbJNvUTWkwXF"
      },
      "execution_count": 6,
      "outputs": []
    },
    {
      "cell_type": "code",
      "source": [
        "data['Sex'] = data['Sex'].map({'male': 0, 'female': 1})\n",
        "data['Embarked'] = data['Embarked'].map({\"S\": 0, \"C\": 1, \"Q\": 2})"
      ],
      "metadata": {
        "id": "10DJmwlukwUX"
      },
      "execution_count": 7,
      "outputs": []
    },
    {
      "cell_type": "code",
      "source": [
        "data = data.drop(columns=['Name', 'PassengerId', 'Ticket'])"
      ],
      "metadata": {
        "id": "kUqhG3rqkwRQ"
      },
      "execution_count": 8,
      "outputs": []
    },
    {
      "cell_type": "code",
      "source": [
        "data.head()"
      ],
      "metadata": {
        "colab": {
          "base_uri": "https://localhost:8080/",
          "height": 206
        },
        "id": "E8d2zwnDkwPV",
        "outputId": "3b57d684-aa8f-438e-b7cf-0e8020719cd0"
      },
      "execution_count": 9,
      "outputs": [
        {
          "output_type": "execute_result",
          "data": {
            "text/plain": [
              "   Pclass  Sex   Age  SibSp  Parch     Fare  Embarked  Survived\n",
              "0       3    0  22.0      1      0   7.2500         0         0\n",
              "1       1    1  38.0      1      0  71.2833         1         1\n",
              "2       3    1  26.0      0      0   7.9250         0         1\n",
              "3       1    1  35.0      1      0  53.1000         0         1\n",
              "4       3    0  35.0      0      0   8.0500         0         0"
            ],
            "text/html": [
              "\n",
              "  <div id=\"df-3c04a46e-d71c-4302-9edb-ecbf7d0e3b96\">\n",
              "    <div class=\"colab-df-container\">\n",
              "      <div>\n",
              "<style scoped>\n",
              "    .dataframe tbody tr th:only-of-type {\n",
              "        vertical-align: middle;\n",
              "    }\n",
              "\n",
              "    .dataframe tbody tr th {\n",
              "        vertical-align: top;\n",
              "    }\n",
              "\n",
              "    .dataframe thead th {\n",
              "        text-align: right;\n",
              "    }\n",
              "</style>\n",
              "<table border=\"1\" class=\"dataframe\">\n",
              "  <thead>\n",
              "    <tr style=\"text-align: right;\">\n",
              "      <th></th>\n",
              "      <th>Pclass</th>\n",
              "      <th>Sex</th>\n",
              "      <th>Age</th>\n",
              "      <th>SibSp</th>\n",
              "      <th>Parch</th>\n",
              "      <th>Fare</th>\n",
              "      <th>Embarked</th>\n",
              "      <th>Survived</th>\n",
              "    </tr>\n",
              "  </thead>\n",
              "  <tbody>\n",
              "    <tr>\n",
              "      <th>0</th>\n",
              "      <td>3</td>\n",
              "      <td>0</td>\n",
              "      <td>22.0</td>\n",
              "      <td>1</td>\n",
              "      <td>0</td>\n",
              "      <td>7.2500</td>\n",
              "      <td>0</td>\n",
              "      <td>0</td>\n",
              "    </tr>\n",
              "    <tr>\n",
              "      <th>1</th>\n",
              "      <td>1</td>\n",
              "      <td>1</td>\n",
              "      <td>38.0</td>\n",
              "      <td>1</td>\n",
              "      <td>0</td>\n",
              "      <td>71.2833</td>\n",
              "      <td>1</td>\n",
              "      <td>1</td>\n",
              "    </tr>\n",
              "    <tr>\n",
              "      <th>2</th>\n",
              "      <td>3</td>\n",
              "      <td>1</td>\n",
              "      <td>26.0</td>\n",
              "      <td>0</td>\n",
              "      <td>0</td>\n",
              "      <td>7.9250</td>\n",
              "      <td>0</td>\n",
              "      <td>1</td>\n",
              "    </tr>\n",
              "    <tr>\n",
              "      <th>3</th>\n",
              "      <td>1</td>\n",
              "      <td>1</td>\n",
              "      <td>35.0</td>\n",
              "      <td>1</td>\n",
              "      <td>0</td>\n",
              "      <td>53.1000</td>\n",
              "      <td>0</td>\n",
              "      <td>1</td>\n",
              "    </tr>\n",
              "    <tr>\n",
              "      <th>4</th>\n",
              "      <td>3</td>\n",
              "      <td>0</td>\n",
              "      <td>35.0</td>\n",
              "      <td>0</td>\n",
              "      <td>0</td>\n",
              "      <td>8.0500</td>\n",
              "      <td>0</td>\n",
              "      <td>0</td>\n",
              "    </tr>\n",
              "  </tbody>\n",
              "</table>\n",
              "</div>\n",
              "      <button class=\"colab-df-convert\" onclick=\"convertToInteractive('df-3c04a46e-d71c-4302-9edb-ecbf7d0e3b96')\"\n",
              "              title=\"Convert this dataframe to an interactive table.\"\n",
              "              style=\"display:none;\">\n",
              "        \n",
              "  <svg xmlns=\"http://www.w3.org/2000/svg\" height=\"24px\"viewBox=\"0 0 24 24\"\n",
              "       width=\"24px\">\n",
              "    <path d=\"M0 0h24v24H0V0z\" fill=\"none\"/>\n",
              "    <path d=\"M18.56 5.44l.94 2.06.94-2.06 2.06-.94-2.06-.94-.94-2.06-.94 2.06-2.06.94zm-11 1L8.5 8.5l.94-2.06 2.06-.94-2.06-.94L8.5 2.5l-.94 2.06-2.06.94zm10 10l.94 2.06.94-2.06 2.06-.94-2.06-.94-.94-2.06-.94 2.06-2.06.94z\"/><path d=\"M17.41 7.96l-1.37-1.37c-.4-.4-.92-.59-1.43-.59-.52 0-1.04.2-1.43.59L10.3 9.45l-7.72 7.72c-.78.78-.78 2.05 0 2.83L4 21.41c.39.39.9.59 1.41.59.51 0 1.02-.2 1.41-.59l7.78-7.78 2.81-2.81c.8-.78.8-2.07 0-2.86zM5.41 20L4 18.59l7.72-7.72 1.47 1.35L5.41 20z\"/>\n",
              "  </svg>\n",
              "      </button>\n",
              "      \n",
              "  <style>\n",
              "    .colab-df-container {\n",
              "      display:flex;\n",
              "      flex-wrap:wrap;\n",
              "      gap: 12px;\n",
              "    }\n",
              "\n",
              "    .colab-df-convert {\n",
              "      background-color: #E8F0FE;\n",
              "      border: none;\n",
              "      border-radius: 50%;\n",
              "      cursor: pointer;\n",
              "      display: none;\n",
              "      fill: #1967D2;\n",
              "      height: 32px;\n",
              "      padding: 0 0 0 0;\n",
              "      width: 32px;\n",
              "    }\n",
              "\n",
              "    .colab-df-convert:hover {\n",
              "      background-color: #E2EBFA;\n",
              "      box-shadow: 0px 1px 2px rgba(60, 64, 67, 0.3), 0px 1px 3px 1px rgba(60, 64, 67, 0.15);\n",
              "      fill: #174EA6;\n",
              "    }\n",
              "\n",
              "    [theme=dark] .colab-df-convert {\n",
              "      background-color: #3B4455;\n",
              "      fill: #D2E3FC;\n",
              "    }\n",
              "\n",
              "    [theme=dark] .colab-df-convert:hover {\n",
              "      background-color: #434B5C;\n",
              "      box-shadow: 0px 1px 3px 1px rgba(0, 0, 0, 0.15);\n",
              "      filter: drop-shadow(0px 1px 2px rgba(0, 0, 0, 0.3));\n",
              "      fill: #FFFFFF;\n",
              "    }\n",
              "  </style>\n",
              "\n",
              "      <script>\n",
              "        const buttonEl =\n",
              "          document.querySelector('#df-3c04a46e-d71c-4302-9edb-ecbf7d0e3b96 button.colab-df-convert');\n",
              "        buttonEl.style.display =\n",
              "          google.colab.kernel.accessAllowed ? 'block' : 'none';\n",
              "\n",
              "        async function convertToInteractive(key) {\n",
              "          const element = document.querySelector('#df-3c04a46e-d71c-4302-9edb-ecbf7d0e3b96');\n",
              "          const dataTable =\n",
              "            await google.colab.kernel.invokeFunction('convertToInteractive',\n",
              "                                                     [key], {});\n",
              "          if (!dataTable) return;\n",
              "\n",
              "          const docLinkHtml = 'Like what you see? Visit the ' +\n",
              "            '<a target=\"_blank\" href=https://colab.research.google.com/notebooks/data_table.ipynb>data table notebook</a>'\n",
              "            + ' to learn more about interactive tables.';\n",
              "          element.innerHTML = '';\n",
              "          dataTable['output_type'] = 'display_data';\n",
              "          await google.colab.output.renderOutput(dataTable, element);\n",
              "          const docLink = document.createElement('div');\n",
              "          docLink.innerHTML = docLinkHtml;\n",
              "          element.appendChild(docLink);\n",
              "        }\n",
              "      </script>\n",
              "    </div>\n",
              "  </div>\n",
              "  "
            ]
          },
          "metadata": {},
          "execution_count": 9
        }
      ]
    },
    {
      "cell_type": "markdown",
      "source": [
        "#Разделим на тестовую и обучающую выборки"
      ],
      "metadata": {
        "id": "Xe9R8AMElAHM"
      }
    },
    {
      "cell_type": "code",
      "source": [
        "train, test = train_test_split(data, test_size=0.2)"
      ],
      "metadata": {
        "id": "G2MZsrzukwMw"
      },
      "execution_count": 10,
      "outputs": []
    },
    {
      "cell_type": "code",
      "source": [
        "train.shape, test.shape"
      ],
      "metadata": {
        "colab": {
          "base_uri": "https://localhost:8080/"
        },
        "id": "viAwxFuPkwJ5",
        "outputId": "f8cf62ce-4ba0-41f3-8e9e-dc81247baca1"
      },
      "execution_count": 11,
      "outputs": [
        {
          "output_type": "execute_result",
          "data": {
            "text/plain": [
              "((711, 8), (178, 8))"
            ]
          },
          "metadata": {},
          "execution_count": 11
        }
      ]
    },
    {
      "cell_type": "code",
      "source": [
        "x_train = train.drop(columns=['Survived'])\n",
        "y_train = train['Survived']"
      ],
      "metadata": {
        "id": "WTs_YQ1vkwGf"
      },
      "execution_count": 12,
      "outputs": []
    },
    {
      "cell_type": "code",
      "source": [
        "x_test = test.drop(columns=['Survived'])\n",
        "y_test = test['Survived']"
      ],
      "metadata": {
        "id": "XWyJfyIrkwD4"
      },
      "execution_count": 13,
      "outputs": []
    },
    {
      "cell_type": "markdown",
      "source": [
        "#Логистическая регрессия"
      ],
      "metadata": {
        "id": "3n6nw6WJlJEj"
      }
    },
    {
      "cell_type": "code",
      "source": [
        "class LR(BaseEstimator, ClassifierMixin):\n",
        "    def __init__(self, step=10**-2, it_c=1):\n",
        "        self.step = step\n",
        "        self.it_c = it_c\n",
        "\n",
        "    def get_coeff(self, x, y):\n",
        "        err = 0\n",
        "        x = x.to_numpy()\n",
        "        y = y.to_numpy()\n",
        "        \n",
        "        for i in range(len(y)): \n",
        "            if self.predict(x[i]) == y[i]:\n",
        "                err += 1\n",
        "        return err / len(y)\n",
        "    \n",
        "    def fit(self, x, y):\n",
        "        x = x.to_numpy()\n",
        "        y = y.to_numpy()\n",
        "        np.c_[x, np.ones(len(x))] \n",
        "        self.w = np.zeros(x.shape[1])\n",
        "        for i in range(self.it_c):\n",
        "            z = [sum([x[i][j]*self.w[j] for j in range(len(x[i]))]) for i in range(len(x))]\n",
        "            res = np.array([1 / (1 + np.exp(-a)) for a in z])\n",
        "            grad = np.dot(x.T, res - y) / y.size\n",
        "            self.w -= self.step * grad\n",
        "    def predict(self, x):\n",
        "        np.append(x,1)\n",
        "        return (1 / (1 + np.exp(-np.dot(x, self.w)))).round()"
      ],
      "metadata": {
        "id": "jwWPpXW3kuuj"
      },
      "execution_count": 14,
      "outputs": []
    },
    {
      "cell_type": "markdown",
      "source": [
        "Настройка гиперпараметров:"
      ],
      "metadata": {
        "id": "zA9vVczrQYAB"
      }
    },
    {
      "cell_type": "code",
      "source": [
        "param_grid = {'max_iter': [500,1000,2000,3000]}\n",
        "base_estimator = LogisticRegression()\n",
        "sh = GridSearchCV(base_estimator, param_grid, cv=5).fit(x_test, y_test)\n",
        "sh.best_estimator_"
      ],
      "metadata": {
        "colab": {
          "base_uri": "https://localhost:8080/"
        },
        "id": "vBmv0PwnQXx-",
        "outputId": "09a9166c-1582-4b0d-ecf5-adec5828a57e"
      },
      "execution_count": 15,
      "outputs": [
        {
          "output_type": "execute_result",
          "data": {
            "text/plain": [
              "LogisticRegression(max_iter=500)"
            ]
          },
          "metadata": {},
          "execution_count": 15
        }
      ]
    },
    {
      "cell_type": "code",
      "source": [
        "# Моя реализация\n",
        "\n",
        "param_grid = {'step': [1, 2, 3, 5, 10]}\n",
        "base_estimator = LR()\n",
        "sh = HalvingGridSearchCV(base_estimator, param_grid, cv=5,\n",
        "                         factor=2).fit(x_test, y_test)\n",
        "sh.best_estimator_"
      ],
      "metadata": {
        "colab": {
          "base_uri": "https://localhost:8080/"
        },
        "id": "6z0fYX0BkUC_",
        "outputId": "9ed47fa0-4593-4a73-98f9-98bc984bab68"
      },
      "execution_count": 16,
      "outputs": [
        {
          "output_type": "stream",
          "name": "stderr",
          "text": [
            "/usr/local/lib/python3.7/dist-packages/ipykernel_launcher.py:28: RuntimeWarning: overflow encountered in exp\n",
            "/usr/local/lib/python3.7/dist-packages/ipykernel_launcher.py:28: RuntimeWarning: overflow encountered in exp\n",
            "/usr/local/lib/python3.7/dist-packages/ipykernel_launcher.py:28: RuntimeWarning: overflow encountered in exp\n",
            "/usr/local/lib/python3.7/dist-packages/ipykernel_launcher.py:28: RuntimeWarning: overflow encountered in exp\n",
            "/usr/local/lib/python3.7/dist-packages/ipykernel_launcher.py:28: RuntimeWarning: overflow encountered in exp\n",
            "/usr/local/lib/python3.7/dist-packages/ipykernel_launcher.py:28: RuntimeWarning: overflow encountered in exp\n",
            "/usr/local/lib/python3.7/dist-packages/ipykernel_launcher.py:28: RuntimeWarning: overflow encountered in exp\n",
            "/usr/local/lib/python3.7/dist-packages/ipykernel_launcher.py:28: RuntimeWarning: overflow encountered in exp\n",
            "/usr/local/lib/python3.7/dist-packages/ipykernel_launcher.py:28: RuntimeWarning: overflow encountered in exp\n",
            "/usr/local/lib/python3.7/dist-packages/ipykernel_launcher.py:28: RuntimeWarning: overflow encountered in exp\n",
            "/usr/local/lib/python3.7/dist-packages/ipykernel_launcher.py:28: RuntimeWarning: overflow encountered in exp\n",
            "/usr/local/lib/python3.7/dist-packages/ipykernel_launcher.py:28: RuntimeWarning: overflow encountered in exp\n",
            "/usr/local/lib/python3.7/dist-packages/ipykernel_launcher.py:28: RuntimeWarning: overflow encountered in exp\n",
            "/usr/local/lib/python3.7/dist-packages/ipykernel_launcher.py:28: RuntimeWarning: overflow encountered in exp\n",
            "/usr/local/lib/python3.7/dist-packages/ipykernel_launcher.py:28: RuntimeWarning: overflow encountered in exp\n",
            "/usr/local/lib/python3.7/dist-packages/ipykernel_launcher.py:28: RuntimeWarning: overflow encountered in exp\n",
            "/usr/local/lib/python3.7/dist-packages/ipykernel_launcher.py:28: RuntimeWarning: overflow encountered in exp\n",
            "/usr/local/lib/python3.7/dist-packages/ipykernel_launcher.py:28: RuntimeWarning: overflow encountered in exp\n",
            "/usr/local/lib/python3.7/dist-packages/ipykernel_launcher.py:28: RuntimeWarning: overflow encountered in exp\n",
            "/usr/local/lib/python3.7/dist-packages/ipykernel_launcher.py:28: RuntimeWarning: overflow encountered in exp\n",
            "/usr/local/lib/python3.7/dist-packages/ipykernel_launcher.py:28: RuntimeWarning: overflow encountered in exp\n",
            "/usr/local/lib/python3.7/dist-packages/ipykernel_launcher.py:28: RuntimeWarning: overflow encountered in exp\n",
            "/usr/local/lib/python3.7/dist-packages/ipykernel_launcher.py:28: RuntimeWarning: overflow encountered in exp\n",
            "/usr/local/lib/python3.7/dist-packages/ipykernel_launcher.py:28: RuntimeWarning: overflow encountered in exp\n",
            "/usr/local/lib/python3.7/dist-packages/ipykernel_launcher.py:28: RuntimeWarning: overflow encountered in exp\n",
            "/usr/local/lib/python3.7/dist-packages/ipykernel_launcher.py:28: RuntimeWarning: overflow encountered in exp\n",
            "/usr/local/lib/python3.7/dist-packages/ipykernel_launcher.py:28: RuntimeWarning: overflow encountered in exp\n",
            "/usr/local/lib/python3.7/dist-packages/ipykernel_launcher.py:28: RuntimeWarning: overflow encountered in exp\n",
            "/usr/local/lib/python3.7/dist-packages/ipykernel_launcher.py:28: RuntimeWarning: overflow encountered in exp\n",
            "/usr/local/lib/python3.7/dist-packages/ipykernel_launcher.py:28: RuntimeWarning: overflow encountered in exp\n",
            "/usr/local/lib/python3.7/dist-packages/ipykernel_launcher.py:28: RuntimeWarning: overflow encountered in exp\n",
            "/usr/local/lib/python3.7/dist-packages/ipykernel_launcher.py:28: RuntimeWarning: overflow encountered in exp\n",
            "/usr/local/lib/python3.7/dist-packages/ipykernel_launcher.py:28: RuntimeWarning: overflow encountered in exp\n",
            "/usr/local/lib/python3.7/dist-packages/ipykernel_launcher.py:28: RuntimeWarning: overflow encountered in exp\n",
            "/usr/local/lib/python3.7/dist-packages/ipykernel_launcher.py:28: RuntimeWarning: overflow encountered in exp\n",
            "/usr/local/lib/python3.7/dist-packages/ipykernel_launcher.py:28: RuntimeWarning: overflow encountered in exp\n",
            "/usr/local/lib/python3.7/dist-packages/ipykernel_launcher.py:28: RuntimeWarning: overflow encountered in exp\n",
            "/usr/local/lib/python3.7/dist-packages/ipykernel_launcher.py:28: RuntimeWarning: overflow encountered in exp\n",
            "/usr/local/lib/python3.7/dist-packages/ipykernel_launcher.py:28: RuntimeWarning: overflow encountered in exp\n",
            "/usr/local/lib/python3.7/dist-packages/ipykernel_launcher.py:28: RuntimeWarning: overflow encountered in exp\n",
            "/usr/local/lib/python3.7/dist-packages/ipykernel_launcher.py:28: RuntimeWarning: overflow encountered in exp\n",
            "/usr/local/lib/python3.7/dist-packages/ipykernel_launcher.py:28: RuntimeWarning: overflow encountered in exp\n",
            "/usr/local/lib/python3.7/dist-packages/ipykernel_launcher.py:28: RuntimeWarning: overflow encountered in exp\n",
            "/usr/local/lib/python3.7/dist-packages/ipykernel_launcher.py:28: RuntimeWarning: overflow encountered in exp\n",
            "/usr/local/lib/python3.7/dist-packages/ipykernel_launcher.py:28: RuntimeWarning: overflow encountered in exp\n",
            "/usr/local/lib/python3.7/dist-packages/ipykernel_launcher.py:28: RuntimeWarning: overflow encountered in exp\n",
            "/usr/local/lib/python3.7/dist-packages/ipykernel_launcher.py:28: RuntimeWarning: overflow encountered in exp\n",
            "/usr/local/lib/python3.7/dist-packages/ipykernel_launcher.py:28: RuntimeWarning: overflow encountered in exp\n",
            "/usr/local/lib/python3.7/dist-packages/ipykernel_launcher.py:28: RuntimeWarning: overflow encountered in exp\n",
            "/usr/local/lib/python3.7/dist-packages/ipykernel_launcher.py:28: RuntimeWarning: overflow encountered in exp\n",
            "/usr/local/lib/python3.7/dist-packages/ipykernel_launcher.py:28: RuntimeWarning: overflow encountered in exp\n",
            "/usr/local/lib/python3.7/dist-packages/ipykernel_launcher.py:28: RuntimeWarning: overflow encountered in exp\n",
            "/usr/local/lib/python3.7/dist-packages/ipykernel_launcher.py:28: RuntimeWarning: overflow encountered in exp\n",
            "/usr/local/lib/python3.7/dist-packages/ipykernel_launcher.py:28: RuntimeWarning: overflow encountered in exp\n",
            "/usr/local/lib/python3.7/dist-packages/ipykernel_launcher.py:28: RuntimeWarning: overflow encountered in exp\n",
            "/usr/local/lib/python3.7/dist-packages/ipykernel_launcher.py:28: RuntimeWarning: overflow encountered in exp\n",
            "/usr/local/lib/python3.7/dist-packages/ipykernel_launcher.py:28: RuntimeWarning: overflow encountered in exp\n",
            "/usr/local/lib/python3.7/dist-packages/ipykernel_launcher.py:28: RuntimeWarning: overflow encountered in exp\n",
            "/usr/local/lib/python3.7/dist-packages/ipykernel_launcher.py:28: RuntimeWarning: overflow encountered in exp\n",
            "/usr/local/lib/python3.7/dist-packages/ipykernel_launcher.py:28: RuntimeWarning: overflow encountered in exp\n",
            "/usr/local/lib/python3.7/dist-packages/ipykernel_launcher.py:28: RuntimeWarning: overflow encountered in exp\n",
            "/usr/local/lib/python3.7/dist-packages/ipykernel_launcher.py:28: RuntimeWarning: overflow encountered in exp\n",
            "/usr/local/lib/python3.7/dist-packages/ipykernel_launcher.py:28: RuntimeWarning: overflow encountered in exp\n",
            "/usr/local/lib/python3.7/dist-packages/ipykernel_launcher.py:28: RuntimeWarning: overflow encountered in exp\n",
            "/usr/local/lib/python3.7/dist-packages/ipykernel_launcher.py:28: RuntimeWarning: overflow encountered in exp\n",
            "/usr/local/lib/python3.7/dist-packages/ipykernel_launcher.py:28: RuntimeWarning: overflow encountered in exp\n",
            "/usr/local/lib/python3.7/dist-packages/ipykernel_launcher.py:28: RuntimeWarning: overflow encountered in exp\n",
            "/usr/local/lib/python3.7/dist-packages/ipykernel_launcher.py:28: RuntimeWarning: overflow encountered in exp\n",
            "/usr/local/lib/python3.7/dist-packages/ipykernel_launcher.py:28: RuntimeWarning: overflow encountered in exp\n",
            "/usr/local/lib/python3.7/dist-packages/ipykernel_launcher.py:28: RuntimeWarning: overflow encountered in exp\n",
            "/usr/local/lib/python3.7/dist-packages/ipykernel_launcher.py:28: RuntimeWarning: overflow encountered in exp\n",
            "/usr/local/lib/python3.7/dist-packages/ipykernel_launcher.py:28: RuntimeWarning: overflow encountered in exp\n",
            "/usr/local/lib/python3.7/dist-packages/ipykernel_launcher.py:28: RuntimeWarning: overflow encountered in exp\n",
            "/usr/local/lib/python3.7/dist-packages/ipykernel_launcher.py:28: RuntimeWarning: overflow encountered in exp\n",
            "/usr/local/lib/python3.7/dist-packages/ipykernel_launcher.py:28: RuntimeWarning: overflow encountered in exp\n",
            "/usr/local/lib/python3.7/dist-packages/ipykernel_launcher.py:28: RuntimeWarning: overflow encountered in exp\n",
            "/usr/local/lib/python3.7/dist-packages/ipykernel_launcher.py:28: RuntimeWarning: overflow encountered in exp\n",
            "/usr/local/lib/python3.7/dist-packages/ipykernel_launcher.py:28: RuntimeWarning: overflow encountered in exp\n",
            "/usr/local/lib/python3.7/dist-packages/ipykernel_launcher.py:28: RuntimeWarning: overflow encountered in exp\n",
            "/usr/local/lib/python3.7/dist-packages/ipykernel_launcher.py:28: RuntimeWarning: overflow encountered in exp\n",
            "/usr/local/lib/python3.7/dist-packages/ipykernel_launcher.py:28: RuntimeWarning: overflow encountered in exp\n"
          ]
        },
        {
          "output_type": "execute_result",
          "data": {
            "text/plain": [
              "LR(step=5)"
            ]
          },
          "metadata": {},
          "execution_count": 16
        }
      ]
    },
    {
      "cell_type": "code",
      "source": [
        "mlg = LR(step=5)\n",
        "hist = mlg.fit(x_train, y_train)\n",
        "print(f\"моя LR: {mlg.get_coeff(x_test, y_test)}\")"
      ],
      "metadata": {
        "colab": {
          "base_uri": "https://localhost:8080/"
        },
        "id": "T7v-QlHalNkq",
        "outputId": "4ea951bb-62a9-4add-d518-5d2b2bd6d955"
      },
      "execution_count": 17,
      "outputs": [
        {
          "output_type": "stream",
          "name": "stdout",
          "text": [
            "моя LR: 0.7191011235955056\n"
          ]
        },
        {
          "output_type": "stream",
          "name": "stderr",
          "text": [
            "/usr/local/lib/python3.7/dist-packages/ipykernel_launcher.py:28: RuntimeWarning: overflow encountered in exp\n"
          ]
        }
      ]
    },
    {
      "cell_type": "code",
      "source": [
        "sklg = LogisticRegression(max_iter=500)\n",
        "sklg.fit(x_train, y_train)\n",
        "print(f\"sklearn: {sklg.score(x_test, y_test)}\")"
      ],
      "metadata": {
        "colab": {
          "base_uri": "https://localhost:8080/"
        },
        "id": "RmCzoqbDlNh1",
        "outputId": "ebd3e9fc-72a4-47ef-fd5e-d12eead20097"
      },
      "execution_count": 18,
      "outputs": [
        {
          "output_type": "stream",
          "name": "stdout",
          "text": [
            "sklearn: 0.8033707865168539\n"
          ]
        }
      ]
    },
    {
      "cell_type": "code",
      "source": [
        "y_pred_test = mlg.predict(x_test)\n",
        "false_positive, true_positive, threshold = roc_curve(y_test, y_pred_test, pos_label=1) \n",
        "print('threshold: ' + str(threshold))\n",
        "print('false_positive: ' + str(false_positive))\n",
        "print('true_positive: ' + str(true_positive))\n",
        "AUC = auc(false_positive, true_positive) \n",
        "print('AUC: ' + str(AUC))\n",
        "print('\\n\\n')\n",
        "plt.plot(false_positive, true_positive, 'r')  \n",
        "plt.title('ROC_curve' + '(AUC: ' + str(AUC) + ')' )  \n",
        "plt.ylabel('True Positive')  \n",
        "plt.xlabel('False Positive')  \n",
        "plt.show()"
      ],
      "metadata": {
        "colab": {
          "base_uri": "https://localhost:8080/",
          "height": 434
        },
        "id": "8gcyk37woP-W",
        "outputId": "681cb54b-eb6b-44af-dca6-6f17994929af"
      },
      "execution_count": 19,
      "outputs": [
        {
          "output_type": "stream",
          "name": "stderr",
          "text": [
            "/usr/local/lib/python3.7/dist-packages/ipykernel_launcher.py:28: RuntimeWarning: overflow encountered in exp\n"
          ]
        },
        {
          "output_type": "stream",
          "name": "stdout",
          "text": [
            "threshold: [2. 1. 0.]\n",
            "false_positive: [0.         0.16260163 1.        ]\n",
            "true_positive: [0.         0.45454545 1.        ]\n",
            "AUC: 0.6459719142645972\n",
            "\n",
            "\n",
            "\n"
          ]
        },
        {
          "output_type": "display_data",
          "data": {
            "text/plain": [
              "<Figure size 432x288 with 1 Axes>"
            ],
            "image/png": "[encoded data removed]"
          },
          "metadata": {
            "needs_background": "light"
          }
        }
      ]
    },
    {
      "cell_type": "code",
      "source": [
        "y_pred_train = mlg.predict(x_train)\n",
        "y_pred_test = mlg.predict(x_test)\n"
      ],
      "metadata": {
        "id": "yFrosDoa5XF8",
        "colab": {
          "base_uri": "https://localhost:8080/"
        },
        "outputId": "004ad2fc-fa5c-4243-d01d-2a136e3eddf4"
      },
      "execution_count": 20,
      "outputs": [
        {
          "output_type": "stream",
          "name": "stderr",
          "text": [
            "/usr/local/lib/python3.7/dist-packages/ipykernel_launcher.py:28: RuntimeWarning: overflow encountered in exp\n"
          ]
        }
      ]
    },
    {
      "cell_type": "code",
      "source": [
        "recall_score(y_train, y_pred_train)"
      ],
      "metadata": {
        "colab": {
          "base_uri": "https://localhost:8080/"
        },
        "id": "FYM1lNrEEoIy",
        "outputId": "881e4afd-78ca-4a9f-cb78-c6ae05bad1d9"
      },
      "execution_count": 21,
      "outputs": [
        {
          "output_type": "execute_result",
          "data": {
            "text/plain": [
              "0.4842105263157895"
            ]
          },
          "metadata": {},
          "execution_count": 21
        }
      ]
    },
    {
      "cell_type": "code",
      "source": [
        "recall_score(y_test, y_pred_test)"
      ],
      "metadata": {
        "colab": {
          "base_uri": "https://localhost:8080/"
        },
        "id": "HekpqoHKEpaP",
        "outputId": "fa7e1dba-7310-4709-8540-8fe83102950d"
      },
      "execution_count": 22,
      "outputs": [
        {
          "output_type": "execute_result",
          "data": {
            "text/plain": [
              "0.45454545454545453"
            ]
          },
          "metadata": {},
          "execution_count": 22
        }
      ]
    },
    {
      "cell_type": "code",
      "source": [
        "precision_score(y_train, y_pred_train)\n"
      ],
      "metadata": {
        "colab": {
          "base_uri": "https://localhost:8080/"
        },
        "id": "2Ea6pUJzDYaM",
        "outputId": "e773ec99-bb67-4157-c1ed-c59b0f490b5c"
      },
      "execution_count": 23,
      "outputs": [
        {
          "output_type": "execute_result",
          "data": {
            "text/plain": [
              "0.6359447004608295"
            ]
          },
          "metadata": {},
          "execution_count": 23
        }
      ]
    },
    {
      "cell_type": "code",
      "source": [
        "precision_score(y_test, y_pred_test)\n"
      ],
      "metadata": {
        "colab": {
          "base_uri": "https://localhost:8080/"
        },
        "id": "d_GuVlpSExci",
        "outputId": "a882e789-c1d8-4713-b65a-8caf3b1d0baa"
      },
      "execution_count": 24,
      "outputs": [
        {
          "output_type": "execute_result",
          "data": {
            "text/plain": [
              "0.5555555555555556"
            ]
          },
          "metadata": {},
          "execution_count": 24
        }
      ]
    },
    {
      "cell_type": "code",
      "source": [
        "confusion_matrix(y_train, y_pred_train)"
      ],
      "metadata": {
        "colab": {
          "base_uri": "https://localhost:8080/"
        },
        "id": "3Cr4y9vHE7bx",
        "outputId": "9d020bae-5c8a-43c5-b438-9d5008afcbb2"
      },
      "execution_count": 25,
      "outputs": [
        {
          "output_type": "execute_result",
          "data": {
            "text/plain": [
              "array([[347,  79],\n",
              "       [147, 138]])"
            ]
          },
          "metadata": {},
          "execution_count": 25
        }
      ]
    },
    {
      "cell_type": "code",
      "source": [
        "confusion_matrix(y_test, y_pred_test)"
      ],
      "metadata": {
        "colab": {
          "base_uri": "https://localhost:8080/"
        },
        "id": "VYeKRsteDYXh",
        "outputId": "1da922ed-ba2c-4d74-e1e1-101c0c514b13"
      },
      "execution_count": 26,
      "outputs": [
        {
          "output_type": "execute_result",
          "data": {
            "text/plain": [
              "array([[103,  20],\n",
              "       [ 30,  25]])"
            ]
          },
          "metadata": {},
          "execution_count": 26
        }
      ]
    },
    {
      "cell_type": "code",
      "source": [
        "accuracy_score(y_train, y_pred_train)"
      ],
      "metadata": {
        "colab": {
          "base_uri": "https://localhost:8080/"
        },
        "id": "dUAJY_1XDYTp",
        "outputId": "cf6b193c-2341-4bfd-ba46-ca8d51ba3933"
      },
      "execution_count": 27,
      "outputs": [
        {
          "output_type": "execute_result",
          "data": {
            "text/plain": [
              "0.6821378340365682"
            ]
          },
          "metadata": {},
          "execution_count": 27
        }
      ]
    },
    {
      "cell_type": "code",
      "source": [
        "accuracy_score(y_test, y_pred_test)"
      ],
      "metadata": {
        "colab": {
          "base_uri": "https://localhost:8080/"
        },
        "id": "db6kr1xQFBBj",
        "outputId": "50153cf2-fd72-4d04-e9d1-4ea5b316d5b7"
      },
      "execution_count": 28,
      "outputs": [
        {
          "output_type": "execute_result",
          "data": {
            "text/plain": [
              "0.7191011235955056"
            ]
          },
          "metadata": {},
          "execution_count": 28
        }
      ]
    },
    {
      "cell_type": "code",
      "source": [
        "joblib.dump(param_grid, \"linear_regression.pkl\")"
      ],
      "metadata": {
        "colab": {
          "base_uri": "https://localhost:8080/"
        },
        "id": "O2B659ScCpRX",
        "outputId": "0f3a1d6f-4394-4b99-c93d-5d99f76c0461"
      },
      "execution_count": 29,
      "outputs": [
        {
          "output_type": "execute_result",
          "data": {
            "text/plain": [
              "['linear_regression.pkl']"
            ]
          },
          "metadata": {},
          "execution_count": 29
        }
      ]
    },
    {
      "cell_type": "markdown",
      "source": [
        "#KNN"
      ],
      "metadata": {
        "id": "2XGUIE2OuVdB"
      }
    },
    {
      "cell_type": "code",
      "source": [
        "class KNN(BaseEstimator, ClassifierMixin):\n",
        "    def __init__(self,K,x,y):\n",
        "        self.K = K\n",
        "        self.x = x.to_numpy()\n",
        "        self.y = y.to_numpy()\n",
        "    \n",
        "    def fit(self,x,y):\n",
        "        x = x.to_numpy()\n",
        "        res = []\n",
        "        err = 0\n",
        "        for d in range(len(x)):\n",
        "            dist = []\n",
        "            for i in range(len(self.x)):\n",
        "                dd = [(x[d][idx] - self.x[i][idx])**2 for idx in range(len(self.x[i]))]\n",
        "                dist.append([sum(dd)**0.5, self.y[i]])   \n",
        "            dist = sorted(dist)[:self.K]\n",
        "            inverse_distances = [1/c[0] for c in dist]   \n",
        "            sum_of_inverses = sum(inverse_distances)\n",
        "            weights = [[inverse / sum_of_inverses, dist[idx][1]] for idx, inverse in enumerate(inverse_distances)]\n",
        "            prob = {c : 0 for c in y.unique()}\n",
        "            for el in weights:\n",
        "                prob[el[1]] += el[0]\n",
        "            res.append(max(prob, key=prob.get))\n",
        "            if res[-1] == y.to_numpy()[d]:\n",
        "                err += 1\n",
        "        return err / len(y.to_numpy())\n",
        "\n",
        "    def predict(self,f):\n",
        "        decision = np.dot(f, self.coef.T)\n",
        "        pred = decision.argmax(axis=0)\n",
        "        return pred"
      ],
      "metadata": {
        "id": "wP9pM6URuU73"
      },
      "execution_count": 30,
      "outputs": []
    },
    {
      "cell_type": "markdown",
      "source": [
        "Настройка гиперпараметров:"
      ],
      "metadata": {
        "id": "fuWdW1xAOeOf"
      }
    },
    {
      "cell_type": "code",
      "source": [
        "param_grid = {'leaf_size': [ 1, 2, 3, 5, 10],\n",
        "              'n_neighbors': [ 1, 2, 3, 5, 10, 20, 30],\n",
        "              'n_jobs': [ 1, 2, 3]}\n",
        "base_estimator = KNeighborsClassifier(5)\n",
        "\n",
        "sh = GridSearchCV(base_estimator, param_grid, cv=5).fit(x_test, y_test)\n",
        "sh.best_estimator_"
      ],
      "metadata": {
        "colab": {
          "base_uri": "https://localhost:8080/"
        },
        "id": "4y1eaqlDOfOJ",
        "outputId": "0404fbe9-3a23-4928-c4bf-b3eb1a16c456"
      },
      "execution_count": 31,
      "outputs": [
        {
          "output_type": "execute_result",
          "data": {
            "text/plain": [
              "KNeighborsClassifier(leaf_size=1, n_jobs=1, n_neighbors=10)"
            ]
          },
          "metadata": {},
          "execution_count": 31
        }
      ]
    },
    {
      "cell_type": "code",
      "source": [
        "model = KNN(7,x_train,y_train)\n",
        "model.fit(x_test,y_test)"
      ],
      "metadata": {
        "colab": {
          "base_uri": "https://localhost:8080/"
        },
        "id": "S9-UNUh9uQkt",
        "outputId": "60f7f8ab-3317-45c4-a254-f17c14799647"
      },
      "execution_count": 32,
      "outputs": [
        {
          "output_type": "stream",
          "name": "stderr",
          "text": [
            "/usr/local/lib/python3.7/dist-packages/ipykernel_launcher.py:17: RuntimeWarning: divide by zero encountered in double_scalars\n",
            "/usr/local/lib/python3.7/dist-packages/ipykernel_launcher.py:19: RuntimeWarning: invalid value encountered in double_scalars\n"
          ]
        },
        {
          "output_type": "execute_result",
          "data": {
            "text/plain": [
              "0.5898876404494382"
            ]
          },
          "metadata": {},
          "execution_count": 32
        }
      ]
    },
    {
      "cell_type": "code",
      "source": [
        "scores = []\n",
        "for i in range(2, 50):\n",
        "    knn = KNeighborsClassifier(n_neighbors = i)\n",
        "    knn.fit(x_train, y_train)\n",
        "    y_pred = knn.predict(x_test)\n",
        "    scores.append((y_test == y_pred).sum() / len(y_test))\n",
        "max(scores)"
      ],
      "metadata": {
        "colab": {
          "base_uri": "https://localhost:8080/"
        },
        "id": "EgTl85kguQY7",
        "outputId": "2e38798e-0127-4a5f-84e7-1a2633a5a8d8"
      },
      "execution_count": 33,
      "outputs": [
        {
          "output_type": "execute_result",
          "data": {
            "text/plain": [
              "0.7584269662921348"
            ]
          },
          "metadata": {},
          "execution_count": 33
        }
      ]
    },
    {
      "cell_type": "markdown",
      "source": [
        "Нормированная дата"
      ],
      "metadata": {
        "id": "E7Plvxs1uecp"
      }
    },
    {
      "cell_type": "code",
      "source": [
        "X_train_normalized = x_train.apply(lambda x: (x-x.mean()) / x.std(), axis=0)\n",
        "X_test_normalized = x_test.apply(lambda x: (x-x.mean()) / x.std(), axis=0)\n",
        "scores = []\n",
        "for i in range(2, 100):\n",
        "    knn = KNeighborsClassifier(n_neighbors = i)\n",
        "    knn.fit(X_train_normalized, y_train)\n",
        "    Y_pred = knn.predict(X_test_normalized)\n",
        "    scores.append((y_test == Y_pred).sum() / len(y_test))\n",
        "max(scores)"
      ],
      "metadata": {
        "colab": {
          "base_uri": "https://localhost:8080/"
        },
        "id": "cbuns3_euQVs",
        "outputId": "513d23d8-391e-4c88-837c-3cc26397a5c1"
      },
      "execution_count": 34,
      "outputs": [
        {
          "output_type": "execute_result",
          "data": {
            "text/plain": [
              "0.8146067415730337"
            ]
          },
          "metadata": {},
          "execution_count": 34
        }
      ]
    },
    {
      "cell_type": "code",
      "source": [
        "y_pred_test = sh.predict(x_test)\n",
        "false_positive, true_positive, threshold = roc_curve(y_test, y_pred_test, pos_label=1) \n",
        "print('threshold: ' + str(threshold))\n",
        "print('false_positive: ' + str(false_positive))\n",
        "print('true_positive: ' + str(true_positive))\n",
        "AUC = auc(false_positive, true_positive) \n",
        "print('AUC: ' + str(AUC))\n",
        "print('\\n\\n')\n",
        "plt.plot(false_positive, true_positive, 'r')  \n",
        "plt.title('ROC_curve' + '(AUC: ' + str(AUC) + ')' )  \n",
        "plt.ylabel('True Positive')  \n",
        "plt.xlabel('False Positive')  \n",
        "plt.show()\n"
      ],
      "metadata": {
        "colab": {
          "base_uri": "https://localhost:8080/",
          "height": 417
        },
        "id": "ZfjSlAZZqaqJ",
        "outputId": "26c5e344-5c51-42d0-c34e-1b296743110b"
      },
      "execution_count": 35,
      "outputs": [
        {
          "output_type": "stream",
          "name": "stdout",
          "text": [
            "threshold: [2 1 0]\n",
            "false_positive: [0.         0.08130081 1.        ]\n",
            "true_positive: [0.         0.25454545 1.        ]\n",
            "AUC: 0.5866223207686622\n",
            "\n",
            "\n",
            "\n"
          ]
        },
        {
          "output_type": "display_data",
          "data": {
            "text/plain": [
              "<Figure size 432x288 with 1 Axes>"
            ],
            "image/png": "[encoded data removed]"
          },
          "metadata": {
            "needs_background": "light"
          }
        }
      ]
    },
    {
      "cell_type": "code",
      "source": [
        "y_pred_train = sh.predict(x_train)\n",
        "y_pred_test = sh.predict(x_test)\n"
      ],
      "metadata": {
        "id": "mMPrCaxEJUz6"
      },
      "execution_count": 36,
      "outputs": []
    },
    {
      "cell_type": "code",
      "source": [
        "recall_score(y_train, y_pred_train)"
      ],
      "metadata": {
        "colab": {
          "base_uri": "https://localhost:8080/"
        },
        "outputId": "c88c738f-b15f-4d79-a5ca-42122544de89",
        "id": "N35ntKGTMLx0"
      },
      "execution_count": 37,
      "outputs": [
        {
          "output_type": "execute_result",
          "data": {
            "text/plain": [
              "0.2736842105263158"
            ]
          },
          "metadata": {},
          "execution_count": 37
        }
      ]
    },
    {
      "cell_type": "code",
      "source": [
        "recall_score(y_test, y_pred_test)"
      ],
      "metadata": {
        "colab": {
          "base_uri": "https://localhost:8080/"
        },
        "outputId": "83d1039f-9873-4c68-dcb5-e7ea7608d34c",
        "id": "svePZYNAMLx1"
      },
      "execution_count": 38,
      "outputs": [
        {
          "output_type": "execute_result",
          "data": {
            "text/plain": [
              "0.2545454545454545"
            ]
          },
          "metadata": {},
          "execution_count": 38
        }
      ]
    },
    {
      "cell_type": "code",
      "source": [
        "precision_score(y_train, y_pred_train)\n"
      ],
      "metadata": {
        "colab": {
          "base_uri": "https://localhost:8080/"
        },
        "outputId": "44bdf0bf-bf02-4464-d653-0b23b3f3ed6f",
        "id": "c4aDn5-VJYRE"
      },
      "execution_count": 39,
      "outputs": [
        {
          "output_type": "execute_result",
          "data": {
            "text/plain": [
              "0.65"
            ]
          },
          "metadata": {},
          "execution_count": 39
        }
      ]
    },
    {
      "cell_type": "code",
      "source": [
        "precision_score(y_test, y_pred_test)\n"
      ],
      "metadata": {
        "colab": {
          "base_uri": "https://localhost:8080/"
        },
        "outputId": "c5044087-8f6e-4b66-e13b-a3de872c5d74",
        "id": "2v0QbkJYJYRE"
      },
      "execution_count": 40,
      "outputs": [
        {
          "output_type": "execute_result",
          "data": {
            "text/plain": [
              "0.5833333333333334"
            ]
          },
          "metadata": {},
          "execution_count": 40
        }
      ]
    },
    {
      "cell_type": "code",
      "source": [
        "confusion_matrix(y_train, y_pred_train)"
      ],
      "metadata": {
        "colab": {
          "base_uri": "https://localhost:8080/"
        },
        "outputId": "e62d74c5-290d-4bb7-b4c5-b77d6339c212",
        "id": "GVkVAiqcJYRF"
      },
      "execution_count": 41,
      "outputs": [
        {
          "output_type": "execute_result",
          "data": {
            "text/plain": [
              "array([[384,  42],\n",
              "       [207,  78]])"
            ]
          },
          "metadata": {},
          "execution_count": 41
        }
      ]
    },
    {
      "cell_type": "code",
      "source": [
        "confusion_matrix(y_test, y_pred_test)"
      ],
      "metadata": {
        "colab": {
          "base_uri": "https://localhost:8080/"
        },
        "outputId": "23e8df21-248f-42a4-f40a-c20c5604dd89",
        "id": "S4DwU1WxJYRG"
      },
      "execution_count": 42,
      "outputs": [
        {
          "output_type": "execute_result",
          "data": {
            "text/plain": [
              "array([[113,  10],\n",
              "       [ 41,  14]])"
            ]
          },
          "metadata": {},
          "execution_count": 42
        }
      ]
    },
    {
      "cell_type": "code",
      "source": [
        "accuracy_score(y_train, y_pred_train)"
      ],
      "metadata": {
        "colab": {
          "base_uri": "https://localhost:8080/"
        },
        "outputId": "54aa412e-0b37-4c79-8cec-e7a0f6a2a0c3",
        "id": "dLqzZ9KBJYRG"
      },
      "execution_count": 43,
      "outputs": [
        {
          "output_type": "execute_result",
          "data": {
            "text/plain": [
              "0.6497890295358649"
            ]
          },
          "metadata": {},
          "execution_count": 43
        }
      ]
    },
    {
      "cell_type": "code",
      "source": [
        "accuracy_score(y_test, y_pred_test)"
      ],
      "metadata": {
        "colab": {
          "base_uri": "https://localhost:8080/"
        },
        "outputId": "66a70298-9f46-40c5-f42a-4127a33b1299",
        "id": "6nzt5ZmaJYRH"
      },
      "execution_count": 44,
      "outputs": [
        {
          "output_type": "execute_result",
          "data": {
            "text/plain": [
              "0.7134831460674157"
            ]
          },
          "metadata": {},
          "execution_count": 44
        }
      ]
    },
    {
      "cell_type": "code",
      "source": [
        "joblib.dump(param_grid, \"knn.pkl\")"
      ],
      "metadata": {
        "colab": {
          "base_uri": "https://localhost:8080/"
        },
        "id": "w68rL1cRClg7",
        "outputId": "67e7717f-baff-46d7-cfa6-38d91c68958c"
      },
      "execution_count": 45,
      "outputs": [
        {
          "output_type": "execute_result",
          "data": {
            "text/plain": [
              "['knn.pkl']"
            ]
          },
          "metadata": {},
          "execution_count": 45
        }
      ]
    },
    {
      "cell_type": "markdown",
      "source": [
        "#NaiveBayesClassifier"
      ],
      "metadata": {
        "id": "ahTALjtDvW02"
      }
    },
    {
      "cell_type": "code",
      "source": [
        "class NBC(BaseEstimator, ClassifierMixin):\n",
        "    def __init__(self):\n",
        "        pass\n",
        "    \n",
        "    def fit(self,x,y):\n",
        "        self.classes = np.unique(y)\n",
        "        x = x.to_numpy()\n",
        "        y = y.to_numpy()\n",
        "        \n",
        "        mean = []\n",
        "        for j in range(len(x[0])):\n",
        "            r = []\n",
        "            for clas in self.classes:\n",
        "                s = []\n",
        "                num = 0\n",
        "                for i in range(len(x)):\n",
        "                    if y[i] == clas:\n",
        "                        s.append(x[i][j])\n",
        "                        num += 1\n",
        "                r.append(sum(s) / num)\n",
        "            mean.append(r)\n",
        "        self.mean = mean\n",
        "        \n",
        "        stdev = []\n",
        "        for j in range(len(x[0])):\n",
        "            r = []\n",
        "            for clas in range(len(self.classes)):\n",
        "                s = []\n",
        "                num = 0\n",
        "                for i in range(len(x)):\n",
        "                    if y[i] == self.classes[clas]:\n",
        "                        s.append(pow(x[i][j] - mean[j][clas],2))\n",
        "                        num += 1\n",
        "                r.append(sum(s) / (num-1))\n",
        "            stdev.append(r)\n",
        "        self.stdev = stdev\n",
        "        \n",
        "    def predict(self,x):\n",
        "        res = []\n",
        "        for clas in range(len(self.classes)):\n",
        "            r = 1\n",
        "            for j in range(len(x)):\n",
        "                r *= (np.exp((-1/2) * ((x[j]-self.mean[j][clas])**2) / (2 * self.stdev[j][clas])) / np.sqrt(2 * np.pi * self.stdev[j][clas]))\n",
        "            res.append(r)\n",
        "        m = 0\n",
        "        answ = -1\n",
        "        for clas in range(len(self.classes)):\n",
        "            if res[clas] > m:\n",
        "                m = res[clas]\n",
        "                answ = self.classes[clas]\n",
        "        return answ\n",
        "    \n",
        "    def predictAll(self,x,y):\n",
        "        x = x.to_numpy()\n",
        "        y = y.to_numpy()\n",
        "        \n",
        "        err = 0\n",
        "        res = []\n",
        "        for i in range(len(x)):\n",
        "            answ = self.predict(x[i])\n",
        "            res.append(answ)\n",
        "            if answ == y[i]:\n",
        "                err += 1\n",
        "            \n",
        "        return res, err / len(x)"
      ],
      "metadata": {
        "id": "v8wKytaJuQTW"
      },
      "execution_count": 46,
      "outputs": []
    },
    {
      "cell_type": "markdown",
      "source": [
        "Настройка гиперпараметров:"
      ],
      "metadata": {
        "id": "sKgJOrvLMXxg"
      }
    },
    {
      "cell_type": "code",
      "source": [
        "param_grid = {'var_smoothing': [1, 2, 3, 5, 10]}\n",
        "base_estimator = GaussianNB()\n",
        "for parametr in base_estimator.get_params().keys():\n",
        "  print(parametr)\n",
        "sh = GridSearchCV(base_estimator, param_grid, cv=5).fit(x_test, y_test)\n",
        "sh.best_estimator_"
      ],
      "metadata": {
        "colab": {
          "base_uri": "https://localhost:8080/"
        },
        "id": "XzR_5HXuL47t",
        "outputId": "4d9a8774-82da-42ba-e04d-ecb75db77d39"
      },
      "execution_count": 47,
      "outputs": [
        {
          "output_type": "stream",
          "name": "stdout",
          "text": [
            "priors\n",
            "var_smoothing\n"
          ]
        },
        {
          "output_type": "execute_result",
          "data": {
            "text/plain": [
              "GaussianNB(var_smoothing=1)"
            ]
          },
          "metadata": {},
          "execution_count": 47
        }
      ]
    },
    {
      "cell_type": "code",
      "source": [
        "nbc = NBC()\n",
        "nbc.fit(x_train, y_train)\n",
        "res,err = nbc.predictAll(x_test,y_test)\n",
        "err"
      ],
      "metadata": {
        "colab": {
          "base_uri": "https://localhost:8080/"
        },
        "id": "i_5C3dZKuQP3",
        "outputId": "ee74a5d4-ab37-45d3-da72-7feb36ab31aa"
      },
      "execution_count": 48,
      "outputs": [
        {
          "output_type": "execute_result",
          "data": {
            "text/plain": [
              "0.7921348314606742"
            ]
          },
          "metadata": {},
          "execution_count": 48
        }
      ]
    },
    {
      "cell_type": "code",
      "source": [
        "gaussian = GaussianNB(var_smoothing=3) \n",
        "gaussian.fit(x_train, y_train) \n",
        "y_pred = gaussian.predict(x_test)  \n",
        "gaussian.score(x_train, y_train)"
      ],
      "metadata": {
        "colab": {
          "base_uri": "https://localhost:8080/"
        },
        "id": "-p1A7JLBuQMr",
        "outputId": "cf0257ef-41b6-47a7-8b4a-5032da40ac4b"
      },
      "execution_count": 49,
      "outputs": [
        {
          "output_type": "execute_result",
          "data": {
            "text/plain": [
              "0.6104078762306611"
            ]
          },
          "metadata": {},
          "execution_count": 49
        }
      ]
    },
    {
      "cell_type": "code",
      "source": [
        "y_pred_test = nbc.predictAll(x_train, y_train)\n",
        "false_positive, true_positive, threshold = roc_curve(y_train, y_pred_test[0], pos_label=1) \n",
        "print('threshold: ' + str(threshold))\n",
        "print('false_positive: ' + str(false_positive))\n",
        "print('true_positive: ' + str(true_positive))\n",
        "AUC = auc(false_positive, true_positive) \n",
        "print('AUC: ' + str(AUC))\n",
        "print('\\n\\n')\n",
        "plt.plot(false_positive, true_positive, 'r')  \n",
        "plt.title('ROC_curve' + '(AUC: ' + str(AUC) + ')' )  \n",
        "plt.ylabel('True Positive')  \n",
        "plt.xlabel('False Positive')  \n",
        "plt.show()"
      ],
      "metadata": {
        "colab": {
          "base_uri": "https://localhost:8080/",
          "height": 417
        },
        "id": "uoZHuV0q4y25",
        "outputId": "85ebe838-c7c9-40a7-8484-55c91e3bb845"
      },
      "execution_count": 50,
      "outputs": [
        {
          "output_type": "stream",
          "name": "stdout",
          "text": [
            "threshold: [2 1 0]\n",
            "false_positive: [0.         0.16431925 1.        ]\n",
            "true_positive: [0.         0.70175439 1.        ]\n",
            "AUC: 0.7687175685693106\n",
            "\n",
            "\n",
            "\n"
          ]
        },
        {
          "output_type": "display_data",
          "data": {
            "text/plain": [
              "<Figure size 432x288 with 1 Axes>"
            ],
            "image/png": "[encoded data removed]"
          },
          "metadata": {
            "needs_background": "light"
          }
        }
      ]
    },
    {
      "cell_type": "code",
      "source": [
        "y_pred_train = nbc.predictAll(x_train, y_train)\n",
        "y_pred_test = nbc.predictAll(x_test, y_test)\n"
      ],
      "metadata": {
        "id": "lgUaBKscJkba"
      },
      "execution_count": 51,
      "outputs": []
    },
    {
      "cell_type": "code",
      "source": [
        "recall_score(y_train, y_pred_train[0])"
      ],
      "metadata": {
        "colab": {
          "base_uri": "https://localhost:8080/"
        },
        "outputId": "a30f4828-3abb-4efd-eb98-eb098fd3c262",
        "id": "Wh8ybvZ-Jkbb"
      },
      "execution_count": 52,
      "outputs": [
        {
          "output_type": "execute_result",
          "data": {
            "text/plain": [
              "0.7017543859649122"
            ]
          },
          "metadata": {},
          "execution_count": 52
        }
      ]
    },
    {
      "cell_type": "code",
      "source": [
        "recall_score(y_test, y_pred_test[0])"
      ],
      "metadata": {
        "colab": {
          "base_uri": "https://localhost:8080/"
        },
        "outputId": "c8b494dc-f456-4c13-f140-0e0aed6807f7",
        "id": "t340HP3wJkbb"
      },
      "execution_count": 53,
      "outputs": [
        {
          "output_type": "execute_result",
          "data": {
            "text/plain": [
              "0.6545454545454545"
            ]
          },
          "metadata": {},
          "execution_count": 53
        }
      ]
    },
    {
      "cell_type": "code",
      "source": [
        "precision_score(y_train, y_pred_train[0])"
      ],
      "metadata": {
        "colab": {
          "base_uri": "https://localhost:8080/"
        },
        "outputId": "ac69b346-7604-40bd-cc0c-8d1cdd1bce6b",
        "id": "PCPZgRmxJkbc"
      },
      "execution_count": 54,
      "outputs": [
        {
          "output_type": "execute_result",
          "data": {
            "text/plain": [
              "0.7407407407407407"
            ]
          },
          "metadata": {},
          "execution_count": 54
        }
      ]
    },
    {
      "cell_type": "code",
      "source": [
        "precision_score(y_test, y_pred_test[0])\n"
      ],
      "metadata": {
        "colab": {
          "base_uri": "https://localhost:8080/"
        },
        "outputId": "62c08fa8-8d9a-4197-cefe-8cf0b0c85f2f",
        "id": "FSuFRBAFJkbc"
      },
      "execution_count": 55,
      "outputs": [
        {
          "output_type": "execute_result",
          "data": {
            "text/plain": [
              "0.6666666666666666"
            ]
          },
          "metadata": {},
          "execution_count": 55
        }
      ]
    },
    {
      "cell_type": "code",
      "source": [
        "confusion_matrix(y_train, y_pred_train[0])"
      ],
      "metadata": {
        "colab": {
          "base_uri": "https://localhost:8080/"
        },
        "outputId": "b017c0ca-2e3f-453e-c0a8-f26dc39f511b",
        "id": "vyiMdBBLJkbc"
      },
      "execution_count": 56,
      "outputs": [
        {
          "output_type": "execute_result",
          "data": {
            "text/plain": [
              "array([[356,  70],\n",
              "       [ 85, 200]])"
            ]
          },
          "metadata": {},
          "execution_count": 56
        }
      ]
    },
    {
      "cell_type": "code",
      "source": [
        "confusion_matrix(y_test, y_pred_test[0])"
      ],
      "metadata": {
        "colab": {
          "base_uri": "https://localhost:8080/"
        },
        "outputId": "853a5558-afc0-44a6-c6fe-cd376874e612",
        "id": "7SVczoo0Jkbd"
      },
      "execution_count": 57,
      "outputs": [
        {
          "output_type": "execute_result",
          "data": {
            "text/plain": [
              "array([[105,  18],\n",
              "       [ 19,  36]])"
            ]
          },
          "metadata": {},
          "execution_count": 57
        }
      ]
    },
    {
      "cell_type": "code",
      "source": [
        "accuracy_score(y_train, y_pred_train[0])"
      ],
      "metadata": {
        "colab": {
          "base_uri": "https://localhost:8080/"
        },
        "outputId": "abb216ac-f5fa-465a-982f-5f35f1c3d53c",
        "id": "7PeDOTx1Jkbd"
      },
      "execution_count": 58,
      "outputs": [
        {
          "output_type": "execute_result",
          "data": {
            "text/plain": [
              "0.7819971870604782"
            ]
          },
          "metadata": {},
          "execution_count": 58
        }
      ]
    },
    {
      "cell_type": "code",
      "source": [
        "accuracy_score(y_test, y_pred_test[0])"
      ],
      "metadata": {
        "colab": {
          "base_uri": "https://localhost:8080/"
        },
        "outputId": "a632b72a-5242-499b-e650-2094d319f072",
        "id": "XCn2AKs1Jkbe"
      },
      "execution_count": 59,
      "outputs": [
        {
          "output_type": "execute_result",
          "data": {
            "text/plain": [
              "0.7921348314606742"
            ]
          },
          "metadata": {},
          "execution_count": 59
        }
      ]
    },
    {
      "cell_type": "code",
      "source": [
        "joblib.dump(param_grid, \"naive_bause.pkl\")"
      ],
      "metadata": {
        "colab": {
          "base_uri": "https://localhost:8080/"
        },
        "id": "H5UI0plxCYiN",
        "outputId": "a9258fe8-9182-4d93-8f3b-9df766dd86a0"
      },
      "execution_count": 60,
      "outputs": [
        {
          "output_type": "execute_result",
          "data": {
            "text/plain": [
              "['naive_bause.pkl']"
            ]
          },
          "metadata": {},
          "execution_count": 60
        }
      ]
    },
    {
      "cell_type": "markdown",
      "source": [
        "#SVM - Support Vector Machine\n"
      ],
      "metadata": {
        "id": "yv-htLDElYYK"
      }
    },
    {
      "cell_type": "code",
      "source": [
        "def projection_simplex(v, z=1):\n",
        "    n_features = v.shape[0]\n",
        "    u = np.sort(v)[::-1]\n",
        "    cssv = np.cumsum(u) - z\n",
        "    ind = np.arange(n_features) + 1\n",
        "    cond = u - cssv / ind > 0\n",
        "    rho = ind[cond][-1]\n",
        "    theta = cssv[cond][-1] / float(rho)\n",
        "    w = np.maximum(v - theta, 0)\n",
        "    return w"
      ],
      "metadata": {
        "id": "Y0G9LPBYlNez"
      },
      "execution_count": 61,
      "outputs": []
    },
    {
      "cell_type": "code",
      "source": [
        "class SVM(BaseEstimator, ClassifierMixin):\n",
        "    def __init__(self, C=1, max_iter=100, eps=0.01, random_state=None, verbose=0):\n",
        "        self.C = C\n",
        "        self.max_iter = max_iter\n",
        "        self.eps = eps\n",
        "        self.random_state = random_state\n",
        "        self.verbose = verbose\n",
        "\n",
        "    def partial_gradient(self,f, t, i):\n",
        "        print(f[0],self.coef.T)\n",
        "        f = f.to_numpy()\n",
        "        g = np.dot(f[i], self.coef.T) + 1\n",
        "        g[int(t[i])] -= 1\n",
        "        return g\n",
        "\n",
        "    def violation(self, g, t, i):\n",
        "        smallest = np.inf\n",
        "        for k in range(g.shape[0]):\n",
        "            if k == t[i] and self.dual_coef[k, i] >= self.C:\n",
        "                continue\n",
        "            elif k != t[i] and self.dual_coef[k, i] >= 0:\n",
        "                continue\n",
        "\n",
        "            smallest = min(smallest, g[k])\n",
        "        return g.max() - smallest\n",
        "\n",
        "    def solver(self, g, t, norms, i):\n",
        "        Ci = np.zeros(g.shape[0])\n",
        "        Ci[int(t[i])] = self.C\n",
        "        beta_hat = norms[i] * (Ci - self.dual_coef[:, i]) + g / norms[i]\n",
        "        z = self.C * norms[i]\n",
        "        beta = projection_simplex(beta_hat, z)\n",
        "        return Ci - self.dual_coef[:, i] - beta / norms[i]\n",
        "\n",
        "    def fit(self,f, t):\n",
        "        n_samples, n_features =f.shape\n",
        "        n_classes = 4\n",
        "        self.dual_coef = np.zeros((n_classes, n_samples), dtype=np.float64)\n",
        "        self.coef = np.zeros((n_classes, n_features))\n",
        "        norms = np.sqrt(np.sum(f ** 2, axis=1))\n",
        "        rs = check_random_state(self.random_state)\n",
        "        ind = np.arange(n_samples)\n",
        "        rs.shuffle(ind)\n",
        "        violation_init = None\n",
        "        for it in range(self.max_iter):\n",
        "            violation_sum = 0\n",
        "            for idx in range(n_samples):\n",
        "                i = ind[idx]\n",
        "\n",
        "                if norms[i] == 0:\n",
        "                    continue\n",
        "                g = self.partial_gradient(f, t, i)\n",
        "                v = self.violation(g, t, i)\n",
        "                violation_sum += v\n",
        "                if v < 1e-12:\n",
        "                    continue\n",
        "                delta = self.solver(g, t, norms, i)\n",
        "                self.coef += (delta *f[i][:, np.newaxis]).T\n",
        "                self.dual_coef[:, i] += delta\n",
        "            if it == 0:\n",
        "                violation_init = violation_sum\n",
        "            vratio = violation_sum / violation_init\n",
        "            if self.verbose >= 1:\n",
        "                print(\"iter\", it + 1, \"violation\", vratio)\n",
        "            if vratio < self.eps:\n",
        "                if self.verbose >= 1:\n",
        "                    print(\"Converged\")\n",
        "                break\n",
        "        return self\n",
        "\n",
        "    def predict(self,f):\n",
        "        decision = np.dot(f, self.coef.T)\n",
        "        pred = decision.argmax(axis=0)\n",
        "        return pred\n",
        "\n",
        "    def get_coeff(self, features, target):\n",
        "        cnt = 0\n",
        "        for i in range(target.shape[0]):\n",
        "            if self.predict(features[i]) == target[i]:\n",
        "                cnt += 1\n",
        "        return cnt / target.shape[0]"
      ],
      "metadata": {
        "id": "0_N9WMaPlNcB"
      },
      "execution_count": 62,
      "outputs": []
    },
    {
      "cell_type": "markdown",
      "source": [
        "Настройка гиперпараметров:"
      ],
      "metadata": {
        "id": "-EkaY4QSMfdP"
      }
    },
    {
      "cell_type": "code",
      "source": [
        "\n",
        "param_grid = {'break_ties': [2, 3, 5, 10],\n",
        "              'cache_size': [1, 2, 3, 5, 10],\n",
        "              'gamma': [0.001, 0.0001]}\n",
        "base_estimator = SVC(decision_function_shape='ovr')\n",
        "\n",
        "sh = GridSearchCV(base_estimator, param_grid, cv=5).fit(x_test, y_test)\n",
        "sh.best_estimator_"
      ],
      "metadata": {
        "colab": {
          "base_uri": "https://localhost:8080/"
        },
        "id": "awIrhBW6MgXA",
        "outputId": "70ee6d40-e7f5-4129-d424-31434ea41691"
      },
      "execution_count": 63,
      "outputs": [
        {
          "output_type": "execute_result",
          "data": {
            "text/plain": [
              "SVC(break_ties=2, cache_size=1, gamma=0.001)"
            ]
          },
          "metadata": {},
          "execution_count": 63
        }
      ]
    },
    {
      "cell_type": "code",
      "source": [
        "svc = SVC(break_ties=2, cache_size=1, gamma=0.0001)\n",
        "svc.fit(x_train, y_train)\n",
        "print('Результат реализации sklearn: {}'\n",
        ".format(svc.score(x_train, y_train)))"
      ],
      "metadata": {
        "colab": {
          "base_uri": "https://localhost:8080/"
        },
        "id": "VksNiiL3lNZX",
        "outputId": "984f8589-624b-40e6-e714-4c29a83789b8"
      },
      "execution_count": 64,
      "outputs": [
        {
          "output_type": "stream",
          "name": "stdout",
          "text": [
            "Результат реализации sklearn: 0.6694796061884669\n"
          ]
        }
      ]
    },
    {
      "cell_type": "code",
      "source": [
        "y_pred_test = svc.predict(x_train)\n",
        "false_positive, true_positive, threshold = roc_curve(y_train, y_pred_test, pos_label=1) \n",
        "print('threshold: ' + str(threshold))\n",
        "print('false_positive: ' + str(false_positive))\n",
        "print('true_positive: ' + str(true_positive))\n",
        "AUC = auc(false_positive, true_positive) \n",
        "print('AUC: ' + str(AUC))\n",
        "print('\\n\\n')\n",
        "plt.plot(false_positive, true_positive, 'r')  \n",
        "plt.title('ROC_curve' + '(AUC: ' + str(AUC) + ')' )  \n",
        "plt.ylabel('True Positive')  \n",
        "plt.xlabel('False Positive')  \n",
        "plt.show()"
      ],
      "metadata": {
        "id": "vyO58DSNprH0",
        "colab": {
          "base_uri": "https://localhost:8080/",
          "height": 417
        },
        "outputId": "659b5806-9300-45ad-e106-2833bf41778f"
      },
      "execution_count": 65,
      "outputs": [
        {
          "output_type": "stream",
          "name": "stdout",
          "text": [
            "threshold: [2 1 0]\n",
            "false_positive: [0.         0.09624413 1.        ]\n",
            "true_positive: [0.         0.31929825 1.        ]\n",
            "AUC: 0.6115270570793181\n",
            "\n",
            "\n",
            "\n"
          ]
        },
        {
          "output_type": "display_data",
          "data": {
            "text/plain": [
              "<Figure size 432x288 with 1 Axes>"
            ],
            "image/png": "[encoded data removed]"
          },
          "metadata": {
            "needs_background": "light"
          }
        }
      ]
    },
    {
      "cell_type": "code",
      "source": [
        "y_pred_train = svc.predict(x_train)\n",
        "y_pred_test = svc.predict(x_test)\n"
      ],
      "metadata": {
        "id": "4xmTpEY3JoyJ"
      },
      "execution_count": 66,
      "outputs": []
    },
    {
      "cell_type": "code",
      "source": [
        "recall_score(y_train, y_pred_train)"
      ],
      "metadata": {
        "colab": {
          "base_uri": "https://localhost:8080/"
        },
        "outputId": "4a83b79b-bfc6-43fb-8207-a714d0b4b589",
        "id": "LsBlWUTVJoyK"
      },
      "execution_count": 67,
      "outputs": [
        {
          "output_type": "execute_result",
          "data": {
            "text/plain": [
              "0.3192982456140351"
            ]
          },
          "metadata": {},
          "execution_count": 67
        }
      ]
    },
    {
      "cell_type": "code",
      "source": [
        "recall_score(y_test, y_pred_test)"
      ],
      "metadata": {
        "colab": {
          "base_uri": "https://localhost:8080/"
        },
        "outputId": "0b169c11-ff76-463d-edd3-4695a8a71bf6",
        "id": "nf9z1E2WJoyK"
      },
      "execution_count": 68,
      "outputs": [
        {
          "output_type": "execute_result",
          "data": {
            "text/plain": [
              "0.2909090909090909"
            ]
          },
          "metadata": {},
          "execution_count": 68
        }
      ]
    },
    {
      "cell_type": "code",
      "source": [
        "precision_score(y_train, y_pred_train)\n"
      ],
      "metadata": {
        "colab": {
          "base_uri": "https://localhost:8080/"
        },
        "outputId": "4b27e0c7-5086-45cd-b8d4-37bf98e1ec10",
        "id": "m520Enk0JoyL"
      },
      "execution_count": 69,
      "outputs": [
        {
          "output_type": "execute_result",
          "data": {
            "text/plain": [
              "0.6893939393939394"
            ]
          },
          "metadata": {},
          "execution_count": 69
        }
      ]
    },
    {
      "cell_type": "code",
      "source": [
        "precision_score(y_test, y_pred_test)\n"
      ],
      "metadata": {
        "colab": {
          "base_uri": "https://localhost:8080/"
        },
        "outputId": "0ca3377c-1a6d-448b-fb4c-b966fa4c7e91",
        "id": "U0HlwFLdJoyM"
      },
      "execution_count": 70,
      "outputs": [
        {
          "output_type": "execute_result",
          "data": {
            "text/plain": [
              "0.6666666666666666"
            ]
          },
          "metadata": {},
          "execution_count": 70
        }
      ]
    },
    {
      "cell_type": "code",
      "source": [
        "confusion_matrix(y_train, y_pred_train)"
      ],
      "metadata": {
        "colab": {
          "base_uri": "https://localhost:8080/"
        },
        "outputId": "9cbaed65-62fb-4430-8ee1-befae641806b",
        "id": "R3v9aJR7JoyM"
      },
      "execution_count": 71,
      "outputs": [
        {
          "output_type": "execute_result",
          "data": {
            "text/plain": [
              "array([[385,  41],\n",
              "       [194,  91]])"
            ]
          },
          "metadata": {},
          "execution_count": 71
        }
      ]
    },
    {
      "cell_type": "code",
      "source": [
        "confusion_matrix(y_test, y_pred_test)"
      ],
      "metadata": {
        "colab": {
          "base_uri": "https://localhost:8080/"
        },
        "outputId": "3ac204d4-b275-490d-d761-650002fbeb22",
        "id": "WC6wrKS7JoyN"
      },
      "execution_count": 72,
      "outputs": [
        {
          "output_type": "execute_result",
          "data": {
            "text/plain": [
              "array([[115,   8],\n",
              "       [ 39,  16]])"
            ]
          },
          "metadata": {},
          "execution_count": 72
        }
      ]
    },
    {
      "cell_type": "code",
      "source": [
        "accuracy_score(y_train, y_pred_train)"
      ],
      "metadata": {
        "colab": {
          "base_uri": "https://localhost:8080/"
        },
        "outputId": "c47ead52-3f3c-45a2-ba1f-478c5fd7068e",
        "id": "7vXU4mfJJoyO"
      },
      "execution_count": 73,
      "outputs": [
        {
          "output_type": "execute_result",
          "data": {
            "text/plain": [
              "0.6694796061884669"
            ]
          },
          "metadata": {},
          "execution_count": 73
        }
      ]
    },
    {
      "cell_type": "code",
      "source": [
        "accuracy_score(y_test, y_pred_test)"
      ],
      "metadata": {
        "colab": {
          "base_uri": "https://localhost:8080/"
        },
        "outputId": "1c687c5c-6d55-49e0-8c31-004b09cadc0a",
        "id": "HskHhfvnJoyO"
      },
      "execution_count": 74,
      "outputs": [
        {
          "output_type": "execute_result",
          "data": {
            "text/plain": [
              "0.7359550561797753"
            ]
          },
          "metadata": {},
          "execution_count": 74
        }
      ]
    },
    {
      "cell_type": "code",
      "source": [
        "joblib.dump(param_grid, \"svm.pkl\")"
      ],
      "metadata": {
        "id": "plg2RV9ElNUp",
        "colab": {
          "base_uri": "https://localhost:8080/"
        },
        "outputId": "c8d42794-0cb1-4a69-9cbf-5932d045905c"
      },
      "execution_count": 75,
      "outputs": [
        {
          "output_type": "execute_result",
          "data": {
            "text/plain": [
              "['svm.pkl']"
            ]
          },
          "metadata": {},
          "execution_count": 75
        }
      ]
    }
  ]
}